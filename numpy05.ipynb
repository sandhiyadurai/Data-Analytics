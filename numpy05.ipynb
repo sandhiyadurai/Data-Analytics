{
  "nbformat": 4,
  "nbformat_minor": 0,
  "metadata": {
    "colab": {
      "provenance": [],
      "authorship_tag": "ABX9TyNTCDr2JjHTpWm/vrWsHMYk",
      "include_colab_link": true
    },
    "kernelspec": {
      "name": "python3",
      "display_name": "Python 3"
    },
    "language_info": {
      "name": "python"
    }
  },
  "cells": [
    {
      "cell_type": "markdown",
      "metadata": {
        "id": "view-in-github",
        "colab_type": "text"
      },
      "source": [
        "<a href=\"https://colab.research.google.com/github/sandhiyadurai/Data-Analytics/blob/main/numpy05.ipynb\" target=\"_parent\"><img src=\"https://colab.research.google.com/assets/colab-badge.svg\" alt=\"Open In Colab\"/></a>"
      ]
    },
    {
      "cell_type": "code",
      "execution_count": 25,
      "metadata": {
        "colab": {
          "base_uri": "https://localhost:8080/"
        },
        "id": "bUkI6aTZ7GG6",
        "outputId": "e63cc79f-618a-427a-aa00-a8603317be23"
      },
      "outputs": [
        {
          "output_type": "stream",
          "name": "stdout",
          "text": [
            "[[0. 0. 0. 0.]\n",
            " [0. 0. 0. 0.]]\n",
            "[[1. 1. 1. 1.]\n",
            " [1. 1. 1. 1.]]\n",
            "[[0.64399029 0.24822161 0.13211703]\n",
            " [0.30311451 0.91313168 0.18981318]\n",
            " [0.73923576 0.31075259 0.37056244]]\n",
            "[[ 7  9 11 14]\n",
            " [13 12  9  5]\n",
            " [ 8 11 11  5]\n",
            " [ 4  9  6 14]]\n"
          ]
        }
      ],
      "source": [
        "import numpy as np\n",
        "l=[1,2,3,4,5,6]\n",
        "type(l)\n",
        "k=np.array(l)\n",
        "type(k)\n",
        "c= np.zeros((2,4)) # it show the cloumn and rows of a matrix ---- the output comes as zero\n",
        "print(c)\n",
        "a=np.ones((2,4)) # it showa as '1' in rows and column\n",
        "print(a)\n",
        "b= np.random.rand(3,3) # it show random number\n",
        "print(b)\n"
      ]
    },
    {
      "cell_type": "code",
      "source": [
        "c=np.random.randint(3,15,size=(4,4)) # random matrix declared\n",
        "print(c)"
      ],
      "metadata": {
        "colab": {
          "base_uri": "https://localhost:8080/"
        },
        "id": "RFHKFl7K7ML0",
        "outputId": "b3e86cb8-7fde-4f29-bb48-11c7f45311e4"
      },
      "execution_count": 26,
      "outputs": [
        {
          "output_type": "stream",
          "name": "stdout",
          "text": [
            "[[10  5  5 13]\n",
            " [ 6  5  7  3]\n",
            " [ 4 11  6  4]\n",
            " [12  5 14  6]]\n"
          ]
        }
      ]
    },
    {
      "cell_type": "code",
      "source": [
        "d=np.random.choice((1,2,3,4,5,6,7)) # used to chose a random num that we entered\n",
        "print(d)"
      ],
      "metadata": {
        "colab": {
          "base_uri": "https://localhost:8080/"
        },
        "id": "tekaqaUzC9TZ",
        "outputId": "69ce0fd3-cf6a-4695-dfff-3bcddc41da35"
      },
      "execution_count": 42,
      "outputs": [
        {
          "output_type": "stream",
          "name": "stdout",
          "text": [
            "4\n"
          ]
        }
      ]
    },
    {
      "cell_type": "code",
      "source": [
        "e=np.full( (1,5,2,4),(3))\n",
        "print(e)"
      ],
      "metadata": {
        "id": "_FtvEVDkDz5P",
        "outputId": "666fba60-4199-49db-84c4-21a4c7d345cd",
        "colab": {
          "base_uri": "https://localhost:8080/"
        }
      },
      "execution_count": 54,
      "outputs": [
        {
          "output_type": "stream",
          "name": "stdout",
          "text": [
            "[[[[3 3 3 3]\n",
            "   [3 3 3 3]]\n",
            "\n",
            "  [[3 3 3 3]\n",
            "   [3 3 3 3]]\n",
            "\n",
            "  [[3 3 3 3]\n",
            "   [3 3 3 3]]\n",
            "\n",
            "  [[3 3 3 3]\n",
            "   [3 3 3 3]]\n",
            "\n",
            "  [[3 3 3 3]\n",
            "   [3 3 3 3]]]]\n"
          ]
        }
      ]
    },
    {
      "cell_type": "code",
      "source": [
        "n=np.eye(4,k=-2) #--- egen matrix\n",
        "print(n)"
      ],
      "metadata": {
        "id": "PF0W9t44GD_Q",
        "outputId": "5b17cfab-0a42-4e8b-a7b2-d53a5ca00aca",
        "colab": {
          "base_uri": "https://localhost:8080/"
        }
      },
      "execution_count": 53,
      "outputs": [
        {
          "output_type": "stream",
          "name": "stdout",
          "text": [
            "[[0. 0. 0. 0.]\n",
            " [0. 0. 0. 0.]\n",
            " [1. 0. 0. 0.]\n",
            " [0. 1. 0. 0.]]\n"
          ]
        }
      ]
    },
    {
      "cell_type": "code",
      "source": [
        "v=np.arange(0,10,2) #---- range value\n",
        "print(v)"
      ],
      "metadata": {
        "id": "DfYzU-gIGk_c",
        "outputId": "c6402e8b-b57d-461b-e52f-a3d5e8217ecf",
        "colab": {
          "base_uri": "https://localhost:8080/"
        }
      },
      "execution_count": 62,
      "outputs": [
        {
          "output_type": "stream",
          "name": "stdout",
          "text": [
            "[0 2 4 6 8]\n"
          ]
        }
      ]
    },
    {
      "cell_type": "code",
      "source": [
        "a=np.linspace(0,13,5) #---- used to separate a value using given range of thirs num..(start,stop,num) num-- separate\n",
        "print(a)"
      ],
      "metadata": {
        "id": "6Fbf8rzBHS5N",
        "outputId": "c73774df-834f-4a8b-c60d-b3e6cfe89c6a",
        "colab": {
          "base_uri": "https://localhost:8080/"
        }
      },
      "execution_count": 65,
      "outputs": [
        {
          "output_type": "stream",
          "name": "stdout",
          "text": [
            "[ 0.    3.25  6.5   9.75 13.  ]\n"
          ]
        }
      ]
    },
    {
      "cell_type": "code",
      "source": [
        "c=[1,2,3,4]\n",
        "b=[3,4,5,6]\n",
        "g=[3,5,6,7]\n",
        "d=np.array([c,b,g])#---dim=dimension of the array\n",
        "d.ndim\n",
        "d.shape\n",
        "d.size\n",
        "d.dtype"
      ],
      "metadata": {
        "id": "yX_Ltij9Iiw0",
        "outputId": "49622b32-1778-4474-c0ab-4a91c317cda9",
        "colab": {
          "base_uri": "https://localhost:8080/"
        }
      },
      "execution_count": 80,
      "outputs": [
        {
          "output_type": "execute_result",
          "data": {
            "text/plain": [
              "dtype('int64')"
            ]
          },
          "metadata": {},
          "execution_count": 80
        }
      ]
    },
    {
      "cell_type": "code",
      "source": [],
      "metadata": {
        "id": "oXzjr88qJ_RN"
      },
      "execution_count": 78,
      "outputs": []
    }
  ]
}