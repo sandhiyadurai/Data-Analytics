{
 "cells": [
  {
   "cell_type": "code",
   "execution_count": 1,
   "id": "4305949f-5eef-4ae3-86a3-f057357d0cf4",
   "metadata": {},
   "outputs": [
    {
     "name": "stdout",
     "output_type": "stream",
     "text": [
      "200\n"
     ]
    }
   ],
   "source": [
    "#function define\n",
    "def myfunc():\n",
    "    m=200\n",
    "    print(m)\n",
    "myfunc()"
   ]
  },
  {
   "cell_type": "code",
   "execution_count": 16,
   "id": "af9c8dc9-bd73-42d6-8ad4-1ba8a4a4180d",
   "metadata": {},
   "outputs": [
    {
     "name": "stdout",
     "output_type": "stream",
     "text": [
      "300\n"
     ]
    }
   ],
   "source": [
    "#nested def func\n",
    "def myfunc():\n",
    "  x=300\n",
    "  print(x)\n",
    "myfunc()"
   ]
  },
  {
   "cell_type": "code",
   "execution_count": 21,
   "id": "99da8b39-8d01-4acf-ab8c-cef4773ad621",
   "metadata": {},
   "outputs": [
    {
     "name": "stdout",
     "output_type": "stream",
     "text": [
      "200\n",
      "300\n"
     ]
    }
   ],
   "source": [
    "\n",
    "#a value is defined at outside of the fuciton\n",
    "x=300\n",
    "def myfunc():\n",
    "  x=200\n",
    "  print(x)\n",
    "myfunc()\n",
    "print(x)"
   ]
  },
  {
   "cell_type": "code",
   "execution_count": 18,
   "id": "65ff2bf2-b027-4345-8ed6-8a67ff9fa75b",
   "metadata": {},
   "outputs": [
    {
     "name": "stdout",
     "output_type": "stream",
     "text": [
      "200\n"
     ]
    }
   ],
   "source": [
    "#nested function\n",
    "def myfuc():\n",
    "    x=200\n",
    "    def my():\n",
    "        print(x)\n",
    "    my()\n",
    "myfuc()"
   ]
  },
  {
   "cell_type": "code",
   "execution_count": 22,
   "id": "9b70faeb-a11e-425f-b489-6796793af65b",
   "metadata": {},
   "outputs": [
    {
     "name": "stdin",
     "output_type": "stream",
     "text": [
      "Enter your name: sma\n"
     ]
    },
    {
     "name": "stdout",
     "output_type": "stream",
     "text": [
      " hello sma !!!\n"
     ]
    }
   ],
   "source": [
    "#input fuctions like(int,input,string,float,compex)\n",
    "name=input(\"Enter your name:\")\n",
    "print(f\" hello {name} !!!\")"
   ]
  },
  {
   "cell_type": "code",
   "execution_count": 23,
   "id": "c69eed02-bb7a-439e-9660-ffd5783a4ba7",
   "metadata": {},
   "outputs": [
    {
     "name": "stdout",
     "output_type": "stream",
     "text": [
      "John\n",
      "36\n"
     ]
    }
   ],
   "source": [
    "class Person:\n",
    "  def __init__(self,name,age):\n",
    "    self.name=name\n",
    "    self.age=age\n",
    "p1=Person(\"John\",36)\n",
    "print(p1.name)\n",
    "print(p1.age)"
   ]
  },
  {
   "cell_type": "code",
   "execution_count": 33,
   "id": "008c998c-3c5f-4bf0-af25-044094d615a3",
   "metadata": {},
   "outputs": [
    {
     "ename": "SyntaxError",
     "evalue": "'(' was never closed (3231554436.py, line 6)",
     "output_type": "error",
     "traceback": [
      "  \u001b[36mCell\u001b[39m\u001b[36m \u001b[39m\u001b[32mIn[33]\u001b[39m\u001b[32m, line 6\u001b[39m\n\u001b[31m    \u001b[39m\u001b[31mu_age=int(input(\"your age\")\u001b[39m\n             ^\n\u001b[31mSyntaxError\u001b[39m\u001b[31m:\u001b[39m '(' was never closed\n"
     ]
    }
   ],
   "source": [
    "class male:\n",
    "    def __init__(self,name,age):\n",
    "        sef.name=u_name\n",
    "        self.age=u_age\n",
    "        u_name=input(\"your name\")\n",
    "        u_age=int(input(\"your age\")\n",
    "print(u_name.name)\n",
    "print(u_age.age)"
   ]
  },
  {
   "cell_type": "code",
   "execution_count": 29,
   "id": "a115d3e0-8cb9-443f-8713-907bd1ced0b5",
   "metadata": {},
   "outputs": [
    {
     "name": "stdout",
     "output_type": "stream",
     "text": [
      "sandhiya durai\n"
     ]
    }
   ],
   "source": [
    "def my_function(fname,lname):\n",
    "  print(fname,lname)\n",
    "my_function(\"sandhiya\",\"durai\")"
   ]
  },
  {
   "cell_type": "code",
   "execution_count": 32,
   "id": "c08dab17-95de-4edd-a385-e8cbec67dd3d",
   "metadata": {},
   "outputs": [
    {
     "name": "stdout",
     "output_type": "stream",
     "text": [
      "sandhiya               durai\n"
     ]
    }
   ],
   "source": [
    "def my_function(fname,lname):\n",
    "  print(fname,\"             \",lname)  #for the space purpose we use (\"\") here\n",
    "my_function(\"sandhiya\",\"durai\")"
   ]
  },
  {
   "cell_type": "code",
   "execution_count": null,
   "id": "946de55b-7f7c-4ca5-b028-7862aac1480f",
   "metadata": {},
   "outputs": [],
   "source": []
  }
 ],
 "metadata": {
  "kernelspec": {
   "display_name": "Python 3 (ipykernel)",
   "language": "python",
   "name": "python3"
  },
  "language_info": {
   "codemirror_mode": {
    "name": "ipython",
    "version": 3
   },
   "file_extension": ".py",
   "mimetype": "text/x-python",
   "name": "python",
   "nbconvert_exporter": "python",
   "pygments_lexer": "ipython3",
   "version": "3.13.1"
  }
 },
 "nbformat": 4,
 "nbformat_minor": 5
}
