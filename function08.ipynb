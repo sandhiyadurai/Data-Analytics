{
  "nbformat": 4,
  "nbformat_minor": 0,
  "metadata": {
    "colab": {
      "provenance": [],
      "authorship_tag": "ABX9TyON4g514XnD3vSb+7b2wqZ6",
      "include_colab_link": true
    },
    "kernelspec": {
      "name": "python3",
      "display_name": "Python 3"
    },
    "language_info": {
      "name": "python"
    }
  },
  "cells": [
    {
      "cell_type": "markdown",
      "metadata": {
        "id": "view-in-github",
        "colab_type": "text"
      },
      "source": [
        "<a href=\"https://colab.research.google.com/github/sandhiyadurai/Data-Analytics/blob/main/function08.ipynb\" target=\"_parent\"><img src=\"https://colab.research.google.com/assets/colab-badge.svg\" alt=\"Open In Colab\"/></a>"
      ]
    },
    {
      "cell_type": "markdown",
      "source": [
        "DEF function calling"
      ],
      "metadata": {
        "id": "yiHuE0Vf-Rs2"
      }
    },
    {
      "cell_type": "code",
      "execution_count": 1,
      "metadata": {
        "colab": {
          "base_uri": "https://localhost:8080/"
        },
        "id": "i5SulHxY0CJs",
        "outputId": "2c730cf4-49d1-45e3-cd2d-1dc8f8220551"
      },
      "outputs": [
        {
          "output_type": "stream",
          "name": "stdout",
          "text": [
            "The sum of 2 and 4 is 6\n"
          ]
        }
      ],
      "source": [
        "def add():   #------without parameter\n",
        "  c=a+b\n",
        "  print(f\"The sum of {a} and {b} is {c}\")\n",
        "a=2\n",
        "b=4\n",
        "add()"
      ]
    },
    {
      "cell_type": "code",
      "source": [
        "def intro(name,age):    #----- with parameter\n",
        "  print(f\"My name is {name} and my age is {age}\")\n",
        "name=\"RAM\"\n",
        "age=17\n",
        "intro(name,age)"
      ],
      "metadata": {
        "colab": {
          "base_uri": "https://localhost:8080/"
        },
        "id": "-Evaiz1J05e5",
        "outputId": "757d619d-3baf-4165-cfc1-1604de2d894c"
      },
      "execution_count": 2,
      "outputs": [
        {
          "output_type": "stream",
          "name": "stdout",
          "text": [
            "My name is RAM and my age is 17\n"
          ]
        }
      ]
    },
    {
      "cell_type": "code",
      "source": [
        "def hello(name=\"RAM\"):   #----- default argument\n",
        "  print(f\"hello {name}!!!! have a great day\")\n",
        "hello()\n",
        "hello(name=\"ram\")\n"
      ],
      "metadata": {
        "colab": {
          "base_uri": "https://localhost:8080/"
        },
        "id": "moMqT5_P2kuR",
        "outputId": "0ad5088a-d105-4598-f176-ccccf00a4e2f"
      },
      "execution_count": 4,
      "outputs": [
        {
          "output_type": "stream",
          "name": "stdout",
          "text": [
            "hello RAM!!!! have a great day\n",
            "hello ram!!!! have a great day\n"
          ]
        }
      ]
    },
    {
      "cell_type": "code",
      "source": [
        "def sum(a,b):\n",
        "  c=a+b\n",
        "  print(f\"the sum of {a} and {b} is {c}\") #--functionl argument\n",
        "a=4\n",
        "b=9\n",
        "sum(a,b)"
      ],
      "metadata": {
        "colab": {
          "base_uri": "https://localhost:8080/"
        },
        "id": "EP7-8vT239CM",
        "outputId": "f808a7de-ab0f-4299-fbd4-fb7256e2a76a"
      },
      "execution_count": 6,
      "outputs": [
        {
          "output_type": "stream",
          "name": "stdout",
          "text": [
            "the sum of 4 and 9 is 13\n"
          ]
        }
      ]
    },
    {
      "cell_type": "code",
      "source": [
        "def even_odd(a):\n",
        "  if a%2==0:\n",
        "    print(f\"the given number {a} is even number\") #--- condition check\n",
        "  elif a==0:\n",
        "    print(f\" the entered number is zero\")\n",
        "  else:\n",
        "    print(f\"the given number {a} is odd number\")\n",
        "\n",
        "even_odd(6)"
      ],
      "metadata": {
        "colab": {
          "base_uri": "https://localhost:8080/"
        },
        "id": "dG8WMNY_5R2X",
        "outputId": "b0b13646-9ee8-44bc-cfff-26034a2306a6"
      },
      "execution_count": 9,
      "outputs": [
        {
          "output_type": "stream",
          "name": "stdout",
          "text": [
            "the given number 6 is even number\n"
          ]
        }
      ]
    },
    {
      "cell_type": "markdown",
      "source": [
        "TASK"
      ],
      "metadata": {
        "id": "JblgUMSa-PAe"
      }
    },
    {
      "cell_type": "code",
      "source": [
        "user_name=[\"ram\",\"rithu\",\"gomathi\", \"durai\",\"sandhiya\"]\n",
        "user=input(\"Enter your name:\")\n",
        "if user in user_name:\n",
        "  print(f\"the user name {user} is already exists\")\n",
        "else:\n",
        "  print(f\" the user name {user} is not exists\")"
      ],
      "metadata": {
        "colab": {
          "base_uri": "https://localhost:8080/"
        },
        "id": "MvTSdEV26rW4",
        "outputId": "1655f030-6c5b-4531-9225-29fabfdee761"
      },
      "execution_count": 12,
      "outputs": [
        {
          "output_type": "stream",
          "name": "stdout",
          "text": [
            "Enter your name:jj\n",
            " the user name jj is not exists\n"
          ]
        }
      ]
    },
    {
      "cell_type": "code",
      "source": [
        "for i in range(1,16):\n",
        "  print(i)\n",
        "  if i==7:\n",
        "    break\n",
        "    print(i)\n",
        "\n",
        "for i in range (10,15):\n",
        "  print(i)\n",
        "  if i==10:\n",
        "    continue\n",
        "    print(i)"
      ],
      "metadata": {
        "colab": {
          "base_uri": "https://localhost:8080/"
        },
        "id": "STXspfud8SAr",
        "outputId": "93e81008-3d38-401d-ac9c-2e9877123e9b"
      },
      "execution_count": 29,
      "outputs": [
        {
          "output_type": "stream",
          "name": "stdout",
          "text": [
            "1\n",
            "2\n",
            "3\n",
            "4\n",
            "5\n",
            "6\n",
            "7\n",
            "10\n",
            "11\n",
            "12\n",
            "13\n",
            "14\n"
          ]
        }
      ]
    },
    {
      "cell_type": "code",
      "source": [
        "for i in range(1,16):\n",
        "  if i>5 and i<10:\n",
        "    continue\n",
        "    print(i)\n",
        "  else:\n",
        "    print(i)"
      ],
      "metadata": {
        "colab": {
          "base_uri": "https://localhost:8080/"
        },
        "id": "zysAMziSF2gY",
        "outputId": "bcd651b1-4ccc-4563-bdca-389840e66de5"
      },
      "execution_count": 56,
      "outputs": [
        {
          "output_type": "stream",
          "name": "stdout",
          "text": [
            "1\n",
            "2\n",
            "3\n",
            "4\n",
            "5\n",
            "10\n",
            "11\n",
            "12\n",
            "13\n",
            "14\n",
            "15\n"
          ]
        }
      ]
    },
    {
      "cell_type": "code",
      "source": [],
      "metadata": {
        "id": "2caMH7srGLoC"
      },
      "execution_count": null,
      "outputs": []
    }
  ]
}