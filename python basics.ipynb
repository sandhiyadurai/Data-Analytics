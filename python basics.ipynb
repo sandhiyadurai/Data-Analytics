{
 "cells": [
  {
   "cell_type": "code",
   "execution_count": 1,
   "id": "05088a58-4c46-4122-b078-954ac164fdcf",
   "metadata": {},
   "outputs": [
    {
     "name": "stdout",
     "output_type": "stream",
     "text": [
      "54\n",
      "4\n"
     ]
    }
   ],
   "source": [
    "x=54\n",
    "y=4\n",
    "print(x)\n",
    "print(y)"
   ]
  },
  {
   "cell_type": "raw",
   "id": "abe6557e-80ea-4d93-af66-0198c904e0d5",
   "metadata": {},
   "source": [
    "x=str(4)\n",
    "y=float(44)\n",
    "print(type(x))\n",
    "print(y)\n"
   ]
  },
  {
   "cell_type": "code",
   "execution_count": 5,
   "id": "51d0c8f7-5262-448a-a54e-a7dcaba956a1",
   "metadata": {},
   "outputs": [
    {
     "name": "stdout",
     "output_type": "stream",
     "text": [
      "<class 'complex'>\n"
     ]
    }
   ],
   "source": [
    "x=3+8j\n",
    "print(type(x))"
   ]
  },
  {
   "cell_type": "code",
   "execution_count": 8,
   "id": "16099143-5883-447e-9d73-dfec5cdbf21a",
   "metadata": {},
   "outputs": [
    {
     "name": "stdout",
     "output_type": "stream",
     "text": [
      "True\n",
      "Yes,'best'is present\n"
     ]
    }
   ],
   "source": [
    "# logiacl\n",
    "txt=\"The best things\"\n",
    "print(\"best\" in txt)\n",
    "\n",
    "txt=\"The best things\"\n",
    "if\"boo\" not in txt:\n",
    "  print(\"Yes,'best'is present\")\n"
   ]
  },
  {
   "cell_type": "code",
   "execution_count": 9,
   "id": "32903b4d-4f27-4fc5-9aa4-6c66439d10f1",
   "metadata": {},
   "outputs": [
    {
     "name": "stdout",
     "output_type": "stream",
     "text": [
      "Hello\n",
      "llo, World!\n",
      "orl\n",
      "HELLO, WORLD!\n",
      "hello, world!\n"
     ]
    }
   ],
   "source": [
    "# sting slicing\n",
    "a=b=\"Hello, World!\"\n",
    "print(b[:5])\n",
    "print(b[2:])\n",
    "print(b[-5:-2])\n",
    "print(a.upper())\n",
    "print(a.lower())"
   ]
  },
  {
   "cell_type": "code",
   "execution_count": 11,
   "id": "a203c733-72ff-4515-8895-582f73189451",
   "metadata": {},
   "outputs": [
    {
     "name": "stdout",
     "output_type": "stream",
     "text": [
      "b is not greater than a\n"
     ]
    }
   ],
   "source": [
    "#condition staement\n",
    "a=200\n",
    "b=333\n",
    "if b<a:\n",
    "  print(\"b is greater than a\")\n",
    "else:\n",
    "  print(\"b is not greater than a\")"
   ]
  },
  {
   "cell_type": "code",
   "execution_count": 16,
   "id": "deb60ff2-a05a-4766-9644-e89abefd26d0",
   "metadata": {},
   "outputs": [
    {
     "name": "stdout",
     "output_type": "stream",
     "text": [
      "('apple', 'banana', 'cherry', 'apple', 'cherry')\n",
      "['apple', 'banana', 'cherry', 'apple', 'cherry']\n",
      "['abc', 34, True, 40, 'male']\n",
      "['apple', 'orange', 'cherry', 'apple', 'cherry', 'orange']\n",
      "apple\n",
      "orange\n",
      "cherry\n",
      "apple\n",
      "cherry\n",
      "orange\n"
     ]
    }
   ],
   "source": [
    "#tuple\n",
    "thislist=(\"apple\",\"banana\",\"cherry\",\"apple\",\"cherry\")\n",
    "print(thislist)\n",
    "#list\n",
    "thislist=[\"apple\",\"banana\",\"cherry\",\"apple\",\"cherry\"]\n",
    "print(thislist)\n",
    "\n",
    "list1=[\"abc\",34,True,40,\"male\"]\n",
    "print(list1)\n",
    " # all type are allowed \n",
    "#in list data are mutable\n",
    "#append,insert,remove\n",
    "thislist.append(\"orange\")\n",
    "thislist.insert(1,\"orange\")\n",
    "thislist.remove(\"banana\")\n",
    "print(thislist)\n"
   ]
  },
  {
   "cell_type": "code",
   "execution_count": 17,
   "id": "171a50f2-3990-4e2b-90b0-558bd9e1d06f",
   "metadata": {},
   "outputs": [
    {
     "name": "stdout",
     "output_type": "stream",
     "text": [
      "banana\n",
      "cherry\n",
      "apple\n"
     ]
    }
   ],
   "source": [
    "#set\n",
    "#grp of things that have collection of data no duplicates,return in unorder ,no indexing\n",
    "#types---- union,intersection,\n",
    "set=thisset={\"apple\",\"banana\",\"cherry\"}\n",
    "for x in thisset:\n",
    "  print(x)\n"
   ]
  },
  {
   "cell_type": "code",
   "execution_count": 28,
   "id": "8ae8f767-25ca-4b0c-b52e-a3335333c9db",
   "metadata": {},
   "outputs": [
    {
     "name": "stdout",
     "output_type": "stream",
     "text": [
      "{'name': 'sam', 'age': 22}\n",
      "22 sam\n",
      "{'name': 'John', 'age': 36, 'country': 'Norway'}\n"
     ]
    }
   ],
   "source": [
    "#dictionaries-- saved with keys and value\n",
    "a={\"name\":\"sam\",\"age\":22 }\n",
    "print(a)\n",
    "print(a[\"age\"], a[\"name\"])\n",
    "b=dict(name=\"John\",age=36,country=\"Norway\")\n",
    "print(b)\n"
   ]
  },
  {
   "cell_type": "code",
   "execution_count": 40,
   "id": "f3981b60-db5e-4166-a071-075f53f71b00",
   "metadata": {},
   "outputs": [
    {
     "name": "stdout",
     "output_type": "stream",
     "text": [
      "hello!!\n",
      "sam hello!\n",
      "9\n"
     ]
    },
    {
     "data": {
      "text/plain": [
       "9"
      ]
     },
     "execution_count": 40,
     "metadata": {},
     "output_type": "execute_result"
    }
   ],
   "source": [
    "#fuctions--- define the whole pprogrm in single word by using fuc(def) and call the fuction usinf the defined word\n",
    "def name():\n",
    "    print(\"hello!!\")\n",
    "name()\n",
    "def name(n):\n",
    "    print(n+\"hello!\")\n",
    "name(\"sam \")          \n",
    "def add(a,b):\n",
    "    print(a+b)\n",
    "    return a+b\n",
    "add(4,5)\n"
   ]
  },
  {
   "cell_type": "code",
   "execution_count": 43,
   "id": "06fa132c-d264-4012-a9f4-7aed5eb4b03a",
   "metadata": {},
   "outputs": [
    {
     "name": "stdout",
     "output_type": "stream",
     "text": [
      "Even\n"
     ]
    }
   ],
   "source": [
    "def check(num):\n",
    "    if num % 2 == 0:\n",
    "        print( \"Even\" )           # y we using return and print statement ? what are the difference\n",
    "    else:\n",
    "        return \"Odd\"\n",
    "\n",
    "print(check_even(6)) \n"
   ]
  },
  {
   "cell_type": "code",
   "execution_count": 44,
   "id": "9144b855-868c-465b-a0f4-bbbdec5215f8",
   "metadata": {},
   "outputs": [
    {
     "name": "stdout",
     "output_type": "stream",
     "text": [
      "sam\n",
      "20\n"
     ]
    }
   ],
   "source": [
    "#class --- define as a raw template used to reduce the time \n",
    "#eg:           cake mold---class\n",
    "#       create many cake--- object\n",
    "#all cake having same shape--design, \n",
    "#        different flour----values \n",
    "class Person:\n",
    "  def __init__(self,name,age):\n",
    "    self.name=name\n",
    "    self.age=age\n",
    "p1=Person(\"sam\",20)\n",
    "print(p1.name)\n",
    "print(p1.age)\n"
   ]
  },
  {
   "cell_type": "code",
   "execution_count": null,
   "id": "eddfdbff-4723-4ae7-af18-3b91e690e0f4",
   "metadata": {},
   "outputs": [],
   "source": []
  }
 ],
 "metadata": {
  "kernelspec": {
   "display_name": "Python 3 (ipykernel)",
   "language": "python",
   "name": "python3"
  },
  "language_info": {
   "codemirror_mode": {
    "name": "ipython",
    "version": 3
   },
   "file_extension": ".py",
   "mimetype": "text/x-python",
   "name": "python",
   "nbconvert_exporter": "python",
   "pygments_lexer": "ipython3",
   "version": "3.13.1"
  }
 },
 "nbformat": 4,
 "nbformat_minor": 5
}
