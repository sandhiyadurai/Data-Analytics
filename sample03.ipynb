{
 "cells": [
  {
   "cell_type": "code",
   "execution_count": 3,
   "id": "76923abb-18d9-4b8f-83ec-f7cc7b7af1f5",
   "metadata": {},
   "outputs": [
    {
     "name": "stdout",
     "output_type": "stream",
     "text": [
      "apple\n",
      "a is small\n"
     ]
    },
    {
     "name": "stdin",
     "output_type": "stream",
     "text": [
      "Enter the num: 22\n"
     ]
    },
    {
     "name": "stdout",
     "output_type": "stream",
     "text": [
      "the given number 22 is even\n"
     ]
    }
   ],
   "source": [
    "# sample program for basics..\n",
    "#basic\n",
    "x=\"apple\"\n",
    "print(x)\n",
    "\n",
    "# condition statement\n",
    "#if,else,elif\n",
    "a=10\n",
    "b=20\n",
    "if a>b:\n",
    "    print(\" a is large\")\n",
    "else:\n",
    "    print(\"a is small\")\n",
    "    \n"
   ]
  },
  {
   "cell_type": "code",
   "execution_count": null,
   "id": "15be0505-402f-4b2e-94fb-154c9b5cde64",
   "metadata": {},
   "outputs": [],
   "source": [
    "#  find even num\n",
    "num=int(input(\"Enter the num:\"))\n",
    "if num%2==0:\n",
    "    print(f\"the given number {num} is even\")\n",
    "elif num==0:\n",
    "    print(f\"the given number {num}is zero\")\n",
    "else:\n",
    "    print(f\" the given number {num} is odd\")\n"
   ]
  },
  {
   "cell_type": "code",
   "execution_count": 8,
   "id": "e9910fea-6305-46c4-8c9b-4df131538e30",
   "metadata": {},
   "outputs": [
    {
     "name": "stdout",
     "output_type": "stream",
     "text": [
      "invalid input\n"
     ]
    }
   ],
   "source": [
    "# find largest num\n",
    "a=10\n",
    "b=11\n",
    "c=12\n",
    "if (a,b,c) == int:\n",
    "    if(a>b):\n",
    "        print(\"a is greater\")\n",
    "    elif b>c:\n",
    "        print(\"b is greater\")\n",
    "    else :\n",
    "        print(\"c is greater\")\n",
    "else:\n",
    "    print(\"invalid input\")"
   ]
  },
  {
   "cell_type": "code",
   "execution_count": 11,
   "id": "d37c9c52-c1ef-4f6b-9fa3-59cc62751800",
   "metadata": {},
   "outputs": [
    {
     "name": "stdout",
     "output_type": "stream",
     "text": [
      "hello sam 1\n",
      "hello sam 2\n",
      "hello sam 3\n",
      "hello sam 4\n",
      "hello sam 5\n",
      "hello sam 6\n",
      "hello sam 7\n",
      "hello sam 8\n",
      "hello sam 9\n"
     ]
    }
   ],
   "source": [
    "# loop statement\n",
    "#for , while\n",
    "#for loop statement \n",
    "name=\"sam\"\n",
    "for i in range(1,10):\n",
    "    print(f\"hello {name} {i}\")"
   ]
  },
  {
   "cell_type": "code",
   "execution_count": 18,
   "id": "f1d99bd7-1f1c-4f73-a098-c943766e81d2",
   "metadata": {},
   "outputs": [
    {
     "name": "stdin",
     "output_type": "stream",
     "text": [
      "Enter the number  3\n"
     ]
    },
    {
     "name": "stdout",
     "output_type": "stream",
     "text": [
      "the multiple table of 3\n",
      " 3 x 1= 3 \n",
      " 3 x 2= 6 \n",
      " 3 x 3= 9 \n",
      " 3 x 4= 12 \n",
      " 3 x 5= 15 \n",
      " 3 x 6= 18 \n",
      " 3 x 7= 21 \n",
      " 3 x 8= 24 \n",
      " 3 x 9= 27 \n",
      " 3 x 10= 30 \n"
     ]
    }
   ],
   "source": [
    "# find multiple tables\n",
    "a=int(input(\"Enter the number \"))\n",
    "print(f\"the multiple table of {a}\")\n",
    "for i in range(1,11):\n",
    "    print(f\" {a} x {i}= {i*a} \")"
   ]
  },
  {
   "cell_type": "code",
   "execution_count": null,
   "id": "49c7d645-c8f2-4cb6-8c50-2cce4fa34a6e",
   "metadata": {},
   "outputs": [],
   "source": [
    "# for loop for pyramid\n",
    "a=\" boo\"\n",
    "for i in range(1,6):\n",
    "    print(a*i)"
   ]
  },
  {
   "cell_type": "code",
   "execution_count": null,
   "id": "7aab00af-2856-4419-a028-332e30d3f7dc",
   "metadata": {},
   "outputs": [],
   "source": [
    "print(\"helllo\")"
   ]
  },
  {
   "cell_type": "code",
   "execution_count": null,
   "id": "355d0c15-1afa-494b-b94a-0843b9f638b6",
   "metadata": {},
   "outputs": [],
   "source": []
  }
 ],
 "metadata": {
  "kernelspec": {
   "display_name": "Python 3 (ipykernel)",
   "language": "python",
   "name": "python3"
  },
  "language_info": {
   "codemirror_mode": {
    "name": "ipython",
    "version": 3
   },
   "file_extension": ".py",
   "mimetype": "text/x-python",
   "name": "python",
   "nbconvert_exporter": "python",
   "pygments_lexer": "ipython3",
   "version": "3.13.1"
  }
 },
 "nbformat": 4,
 "nbformat_minor": 5
}
